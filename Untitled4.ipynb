{
 "cells": [
  {
   "cell_type": "code",
   "execution_count": 2,
   "metadata": {},
   "outputs": [],
   "source": [
    "import cv2\n",
    "\n",
    "width=700\n",
    "height=700\n",
    "y1=150\n",
    "y2=570\n",
    "x1=500\n",
    "x2=700\n",
    "image=cv2.imread('test3.jpg')\n",
    "image=cv2.resize(image,(width,height))\n",
    "roi2 = image[y1:y2, x1:x2] \n",
    "gray = cv2.cvtColor(roi2, cv2.COLOR_BGR2GRAY) \n",
    "Blur=cv2.GaussianBlur(gray,(5,5),1) \n",
    "Canny=cv2.Canny(Blur,10,50) \n",
    "\n",
    "def find_contours_of_cards(image):\n",
    "    blurred = cv2.GaussianBlur(image, (3, 3), 0)\n",
    "    T, thresh_img = cv2.threshold(blurred, 215, 255, \n",
    "                                  cv2.THRESH_BINARY)\n",
    "    (_, cnts, _) = cv2.findContours(thresh_img, \n",
    "                                cv2.RETR_EXTERNAL,\n",
    "                                cv2.CHAIN_APPROX_SIMPLE)\n",
    "    return cnts\n",
    "\n",
    "cv2.imshow('Roi',roi2)\n",
    "cv2.waitKey(0)\n",
    "cv2.destroyAllWindows()"
   ]
  },
  {
   "cell_type": "code",
   "execution_count": null,
   "metadata": {},
   "outputs": [],
   "source": []
  }
 ],
 "metadata": {
  "kernelspec": {
   "display_name": "Python 3",
   "language": "python",
   "name": "python3"
  },
  "language_info": {
   "codemirror_mode": {
    "name": "ipython",
    "version": 3
   },
   "file_extension": ".py",
   "mimetype": "text/x-python",
   "name": "python",
   "nbconvert_exporter": "python",
   "pygments_lexer": "ipython3",
   "version": "3.8.3"
  }
 },
 "nbformat": 4,
 "nbformat_minor": 4
}
